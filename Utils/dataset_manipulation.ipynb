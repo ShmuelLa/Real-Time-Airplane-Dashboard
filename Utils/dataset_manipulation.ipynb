{
 "cells": [
  {
   "cell_type": "code",
   "execution_count": 13,
   "metadata": {},
   "outputs": [
    {
     "name": "stderr",
     "output_type": "stream",
     "text": [
      "/tmp/ipykernel_14469/3825635866.py:5: DtypeWarning: Columns (7,8) have mixed types. Specify dtype option on import or set low_memory=False.\n",
      "  df = pd.read_csv('./../flights.csv/flights.csv')\n"
     ]
    }
   ],
   "source": [
    "import pandas as pd\n",
    "\n",
    "pd.set_option('display.max_columns', None)\n",
    "\n",
    "# df = pd.read_csv('./../flights.csv/flights.csv')\n",
    "\n",
    "def reqrite_csv(df):\n",
    "    df.to_csv('./../flights.csv/flights.csv')\n",
    "\n",
    "def remove_irrelevant_airports(df):\n",
    "    \"\"\"\n",
    "    Removes airport rowns from the dict by their numberic value and apearance\n",
    "    \"\"\"\n",
    "    values_c = df['ORIGIN_AIRPORT'].value_counts()\n",
    "    values_c_dict = dict(values_c)\n",
    "    for k, v in values_c_dict.items():\n",
    "        if v < 2100:\n",
    "            df = df[(df['ORIGIN_AIRPORT'].str.contains(k) == False) & (df['DESTINATION_AIRPORT'].str.contains(k) == False)]\n",
    "\n",
    "# df['DESTINATION_AIRPORT'].value_counts()\n",
    "# df['ORIGIN_AIRPORT'].value_counts()\n",
    "# we get ATL   - 346836\n",
    "\n",
    "# Replace all occurences\n",
    "# df.replace({'ATL': 'TLV'}, inplace=True)\n",
    "\n",
    "# Filter out any non TLV flight\n",
    "# df = df[(df['ORIGIN_AIRPORT'].str.contains('TLV') == True) | (df['DESTINATION_AIRPORT'].str.contains('TLV') == True)]\n",
    "\n",
    "# airport_replace_dict = {'LGA':'MLA', 'MCO': 'ADD', 'FLL': 'FCO'}\n",
    "\n",
    "# \n"
   ]
  },
  {
   "cell_type": "code",
   "execution_count": 67,
   "metadata": {},
   "outputs": [],
   "source": [
    "\n",
    "# df.head()\n",
    "# df.pop('TAXI_IN')\n",
    "# df['ORIGIN_AIRPORT'].value_counts()\n",
    "#  or df['DESTINATION_AIRPORT'].str.contains('TLV')==True\n",
    "# df2 = df[df['AIRLINE'].str.contains('ELY') == True]\n",
    "# df.to_csv('./../flights.csv/flights.csv')\n",
    "\n",
    "\n",
    "\n",
    "# df.to_csv('./../flights.csv/flights.csv')\n",
    "\n",
    "\n"
   ]
  },
  {
   "cell_type": "code",
   "execution_count": 73,
   "metadata": {},
   "outputs": [
    {
     "data": {
      "text/plain": [
       "TLV    254837\n",
       "LGA      8215\n",
       "MCO      8202\n",
       "FLL      7411\n",
       "TPA      7083\n",
       "        ...  \n",
       "PNS      2268\n",
       "MOB      2253\n",
       "VPS      2208\n",
       "MGM      2202\n",
       "TLH      2106\n",
       "Name: ORIGIN_AIRPORT, Length: 66, dtype: int64"
      ]
     },
     "execution_count": 73,
     "metadata": {},
     "output_type": "execute_result"
    }
   ],
   "source": [
    "df['ORIGIN_AIRPORT'].value_counts()"
   ]
  },
  {
   "cell_type": "code",
   "execution_count": 79,
   "metadata": {},
   "outputs": [],
   "source": [
    "df[(df['ORIGIN_AIRPORT'].str.contains('TPA') == True) | (df['DESTINATION_AIRPORT'].str.contains('TPA') == True)]\n",
    "airport_replace_dict = {'LGA':'MLA', 'MCO': 'ADD', 'FLL': 'FCO'}\n",
    "df.replace(airport_replace_dict, inplace=True)\n",
    "df['ORIGIN_AIRPORT'].value_counts()\n",
    "df.to_csv('./../flights.csv/flights.csv')\n"
   ]
  }
 ],
 "metadata": {
  "kernelspec": {
   "display_name": "Python 3.8.10 64-bit",
   "language": "python",
   "name": "python3"
  },
  "language_info": {
   "codemirror_mode": {
    "name": "ipython",
    "version": 3
   },
   "file_extension": ".py",
   "mimetype": "text/x-python",
   "name": "python",
   "nbconvert_exporter": "python",
   "pygments_lexer": "ipython3",
   "version": "3.8.10"
  },
  "orig_nbformat": 4,
  "vscode": {
   "interpreter": {
    "hash": "916dbcbb3f70747c44a77c7bcd40155683ae19c65e1c03b4aa3499c5328201f1"
   }
  }
 },
 "nbformat": 4,
 "nbformat_minor": 2
}
